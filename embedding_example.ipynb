{
 "cells": [
  {
   "cell_type": "code",
   "execution_count": 4,
   "metadata": {},
   "outputs": [
    {
     "name": "stdout",
     "output_type": "stream",
     "text": [
      "Extracting /Users/luzhoutao/tensorflow/learning/MNIST_data/train-images-idx3-ubyte.gz\n",
      "Extracting /Users/luzhoutao/tensorflow/learning/MNIST_data/train-labels-idx1-ubyte.gz\n",
      "Extracting /Users/luzhoutao/tensorflow/learning/MNIST_data/t10k-images-idx3-ubyte.gz\n",
      "Extracting /Users/luzhoutao/tensorflow/learning/MNIST_data/t10k-labels-idx1-ubyte.gz\n",
      "Extracting /Users/luzhoutao/tensorflow/learning/MNIST_data/train-images-idx3-ubyte.gz\n",
      "Extracting /Users/luzhoutao/tensorflow/learning/MNIST_data/train-labels-idx1-ubyte.gz\n",
      "Extracting /Users/luzhoutao/tensorflow/learning/MNIST_data/t10k-images-idx3-ubyte.gz\n",
      "Extracting /Users/luzhoutao/tensorflow/learning/MNIST_data/t10k-labels-idx1-ubyte.gz\n"
     ]
    },
    {
     "ename": "SystemExit",
     "evalue": "",
     "output_type": "error",
     "traceback": [
      "An exception has occurred, use %tb to see the full traceback.\n",
      "\u001b[0;31mSystemExit\u001b[0m\n"
     ]
    },
    {
     "name": "stderr",
     "output_type": "stream",
     "text": [
      "/Users/luzhoutao/anaconda/lib/python3.6/site-packages/IPython/core/interactiveshell.py:2889: UserWarning: To exit: use 'exit', 'quit', or Ctrl-D.\n",
      "  warn(\"To exit: use 'exit', 'quit', or Ctrl-D.\", stacklevel=1)\n"
     ]
    }
   ],
   "source": [
    "# Copyright 2016 Norman Heckscher. All Rights Reserved.\n",
    "#\n",
    "# Licensed under the Apache License, Version 2.0 (the 'License');\n",
    "# you may not use this file except in compliance with the License.\n",
    "# You may obtain a copy of the License at\n",
    "#\n",
    "#     http://www.apache.org/licenses/LICENSE-2.0\n",
    "#\n",
    "# Unless required by applicable law or agreed to in writing, software\n",
    "# distributed under the License is distributed on an 'AS IS' BASIS,\n",
    "# WITHOUT WARRANTIES OR CONDITIONS OF ANY KIND, either express or implied.\n",
    "# See the License for the specific language governing permissions and\n",
    "# limitations under the License.\n",
    "# ==============================================================================\n",
    "\"\"\"MNIST dimensionality reduction with TensorFlow and TensorBoard.\n",
    "\n",
    "This demonstrates the functionality of the TensorBoard Embedding Visualization dashboard using MNIST.\n",
    "\n",
    "https://www.tensorflow.org/versions/r0.12/how_tos/embedding_viz/index.html#tensorboard-embedding-visualization\n",
    "\"\"\"\n",
    "from __future__ import absolute_import\n",
    "from __future__ import division\n",
    "from __future__ import print_function\n",
    "\n",
    "import argparse\n",
    "import sys\n",
    "\n",
    "import os\n",
    "import numpy as np\n",
    "from tensorflow.contrib.tensorboard.plugins import projector\n",
    "\n",
    "import tensorflow as tf\n",
    "\n",
    "from tensorflow.examples.tutorials.mnist import input_data\n",
    "FLAGS = None\n",
    "\n",
    "def generate_embeddings():\n",
    "    # Import data\n",
    "    mnist = input_data.read_data_sets(FLAGS.data_dir,\n",
    "                                      one_hot=True,\n",
    "                                      fake_data=FLAGS.fake_data)\n",
    "    sess = tf.InteractiveSession()\n",
    "\n",
    "    # Input set for Embedded TensorBoard visualization\n",
    "    # Performed with cpu to conserve memory and processing power\n",
    "    with tf.device(\"/cpu:0\"):\n",
    "        embedding = tf.Variable(tf.stack(mnist.test.images[:FLAGS.max_steps], axis=0), trainable=False, name='embedding')\n",
    "\n",
    "    tf.global_variables_initializer().run()\n",
    "\n",
    "    saver = tf.train.Saver()\n",
    "    writer = tf.summary.FileWriter(FLAGS.log_dir + '/projector', sess.graph)\n",
    "\n",
    "    # Add embedding tensorboard visualization. Need tensorflow version\n",
    "    # >= 0.12.0RC0\n",
    "    config = projector.ProjectorConfig()\n",
    "    embed= config.embeddings.add()\n",
    "    embed.tensor_name = 'embedding:0'\n",
    "    embed.metadata_path = os.path.join(FLAGS.log_dir + '/projector/metadata.tsv')\n",
    "    embed.sprite.image_path = os.path.join(FLAGS.data_dir + '/mnist_10k_sprite.png')\n",
    "\n",
    "    # Specify the width and height of a single thumbnail.\n",
    "    embed.sprite.single_image_dim.extend([28, 28])\n",
    "    projector.visualize_embeddings(writer, config)\n",
    "\n",
    "    saver.save(sess, os.path.join(\n",
    "        FLAGS.log_dir, 'projector/a_model.ckpt'), global_step=FLAGS.max_steps)\n",
    "\n",
    "def generate_metadata_file():\n",
    "    # Import data\n",
    "    mnist = input_data.read_data_sets(FLAGS.data_dir,\n",
    "                                      one_hot=True,\n",
    "                                      fake_data=FLAGS.fake_data)\n",
    "    def save_metadata(file):\n",
    "        with open(file, 'w') as f:\n",
    "            for i in range(FLAGS.max_steps):\n",
    "                c = np.nonzero(mnist.test.labels[::1])[1:][0][i]\n",
    "                f.write('{}\\n'.format(c))\n",
    "\n",
    "    save_metadata(FLAGS.log_dir + '/projector/metadata.tsv')\n",
    "\n",
    "def main(_):\n",
    "    if tf.gfile.Exists(FLAGS.log_dir + '/projector'):\n",
    "        tf.gfile.DeleteRecursively(FLAGS.log_dir + '/projector')\n",
    "        tf.gfile.MkDir(FLAGS.log_dir + '/projector')\n",
    "    tf.gfile.MakeDirs(FLAGS.log_dir  + '/projector') # fix the directory to be created\n",
    "    generate_metadata_file()\n",
    "    generate_embeddings()\n",
    "\n",
    "if __name__ == '__main__':\n",
    "    parser = argparse.ArgumentParser()\n",
    "    parser.add_argument('--fake_data', nargs='?', const=True, type=bool,\n",
    "                        default=False,\n",
    "                        help='If true, uses fake data for unit testing.')\n",
    "    parser.add_argument('--max_steps', type=int, default=10000,\n",
    "                        help='Number of steps to run trainer.')\n",
    "    parser.add_argument('--data_dir', type=str, default='/Users/luzhoutao/tensorflow/learning/MNIST_data',\n",
    "                        help='Directory for storing input data')\n",
    "    parser.add_argument('--log_dir', type=str, default='/Users/luzhoutao/tensorflow/learning/mechanics/run3',\n",
    "                        help='Summaries log directory')\n",
    "    FLAGS, unparsed = parser.parse_known_args()\n",
    "    tf.app.run(main=main, argv=[sys.argv[0]] + unparsed)\n"
   ]
  },
  {
   "cell_type": "code",
   "execution_count": null,
   "metadata": {
    "collapsed": true
   },
   "outputs": [],
   "source": []
  }
 ],
 "metadata": {
  "kernelspec": {
   "display_name": "Python 3",
   "language": "python",
   "name": "python3"
  },
  "language_info": {
   "codemirror_mode": {
    "name": "ipython",
    "version": 3
   },
   "file_extension": ".py",
   "mimetype": "text/x-python",
   "name": "python",
   "nbconvert_exporter": "python",
   "pygments_lexer": "ipython3",
   "version": "3.6.1"
  }
 },
 "nbformat": 4,
 "nbformat_minor": 2
}

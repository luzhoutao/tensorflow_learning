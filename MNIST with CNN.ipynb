{
 "cells": [
  {
   "cell_type": "markdown",
   "metadata": {},
   "source": [
    "# MNIST: trained with small Convolution Network"
   ]
  },
  {
   "cell_type": "markdown",
   "metadata": {},
   "source": [
    "Some utility function."
   ]
  },
  {
   "cell_type": "code",
   "execution_count": 80,
   "metadata": {},
   "outputs": [
    {
     "name": "stdout",
     "output_type": "stream",
     "text": [
      "Extracting MNIST_data/train-images-idx3-ubyte.gz\n",
      "Extracting MNIST_data/train-labels-idx1-ubyte.gz\n",
      "Extracting MNIST_data/t10k-images-idx3-ubyte.gz\n",
      "Extracting MNIST_data/t10k-labels-idx1-ubyte.gz\n"
     ]
    }
   ],
   "source": [
    "import tensorflow as tf\n",
    "from tensorflow.examples.tutorials.mnist import input_data\n",
    "mnist = input_data.read_data_sets('MNIST_data', one_hot=True)"
   ]
  },
  {
   "cell_type": "code",
   "execution_count": 81,
   "metadata": {
    "collapsed": true
   },
   "outputs": [],
   "source": [
    "# 初始化权重值和偏置，来break symmetry；保证包含正的值，来避免dead neuron（ReLU）\n",
    "def weight_variable(shape):\n",
    "    initial = tf.truncated_normal(shape, stddev = 0.1) # 截掉过大或者过小值的正态分布随机数\n",
    "    return tf.Variable(initial)\n",
    "\n",
    "def bias_variable(shape):\n",
    "    initial = tf.constant(.1, shape = shape)\n",
    "    return tf.Variable(initial)"
   ]
  },
  {
   "cell_type": "code",
   "execution_count": 82,
   "metadata": {
    "collapsed": true
   },
   "outputs": [],
   "source": [
    "#产生我们需要的结构的神经网络层\n",
    "def conv2d(x, W):\n",
    "    return tf.nn.conv2d(x, W, strides=[1,1,1,1], padding='SAME')\n",
    "\n",
    "def max_pool_2x2(x):\n",
    "    #ksize: 池化窗口的大小\n",
    "    #x：被池化的对象\n",
    "    #strides：池化操作的步长\n",
    "    #padding: valid(如果ksize不能整除对应维度的size，舍弃余数部分)；same(如果ksize不能整除对应的维度的size,用0填补直到能够整除)\n",
    "    return tf.nn.max_pool(x, ksize=[1,2,2,1], strides = [1,2,2,1], padding='SAME') "
   ]
  },
  {
   "cell_type": "markdown",
   "metadata": {},
   "source": [
    "### Step1.\n",
    "Construct the NN."
   ]
  },
  {
   "cell_type": "code",
   "execution_count": 83,
   "metadata": {},
   "outputs": [],
   "source": [
    "# define the input data\n",
    "x = tf.placeholder(tf.float32, shape=[None, 784])\n",
    "y_ = tf.placeholder(tf.float32, shape=[None, 10])\n",
    "\n",
    "# layer 1: convolution layer\n",
    "W_conv1 = weight_variable([5,5,1,32]) #[filter_width, filter_height, in_channels, out_channels]\n",
    "b_conv1 = bias_variable([32]) # out_channels\n",
    "\n",
    "x_images = tf.reshape(x, [-1, 28, 28, 1]) #[batch, in_width, in_height, channels]\n",
    "h_conv1 = tf.nn.relu(conv2d(x_images, W_conv1) + b_conv1) # features = max{features, 0}\n",
    "h_pool1 = max_pool_2x2(h_conv1)\n",
    "\n",
    "# layer 2: convolution layer\n",
    "W_conv2 = weight_variable([5,5,32,64]) #out_channel = 64\n",
    "b_conv2 = bias_variable([64])\n",
    "\n",
    "h_conv2 = tf.nn.relu(conv2d(h_pool1, W_conv2)+b_conv2)\n",
    "h_pool2 = max_pool_2x2(h_conv2)\n",
    "\n",
    "# layer 3: fully-connected layer\n",
    "# 每个图像转化成size为1024的矩阵\n",
    "W_fc1 = weight_variable([7*7*64, 1024])\n",
    "b_fc1 = bias_variable([1024])\n",
    "\n",
    "h_pool2_flat = tf.reshape(h_pool2, [-1, 7*7*64])\n",
    "h_fc1 = tf.nn.relu(tf.matmul(h_pool2_flat, W_fc1)+b_fc1)\n",
    "\n",
    "# layer 4: dropout layer\n",
    "# 为了避免过拟合，并将dropout的概率作为输入，以便区分测试和训练\n",
    "keep_prob = tf.placeholder(tf.float32) #每个node被keep的概率（如果keep下来，则输出原值除该概率值；如果被丢弃，则输出0）\n",
    "h_fc1_dropout = tf.nn.dropout(h_fc1, keep_prob)\n",
    "\n",
    "# layer 5: readout layer (fully convolution layer)\n",
    "# 类似softmax一样计算出对应的one-hot向量\n",
    "W_fc2 = weight_variable([1024, 10])\n",
    "b_fc2 = bias_variable([10])\n",
    "\n",
    "h_fc2 = tf.matmul(h_fc1_dropout, W_fc2) + b_fc2"
   ]
  },
  {
   "cell_type": "markdown",
   "metadata": {},
   "source": [
    "### Step2.\n",
    "Define required operations of the network.\n",
    "- cost\n",
    "- train\n",
    "- accuracy"
   ]
  },
  {
   "cell_type": "code",
   "execution_count": 84,
   "metadata": {},
   "outputs": [],
   "source": [
    "# for cost\n",
    "cross_entropy = tf.reduce_mean(tf.nn.softmax_cross_entropy_with_logits(labels = y_, logits = h_fc2))\n",
    "# for train\n",
    "train_step = tf.train.AdamOptimizer(1e-4).minimize(cross_entropy)\n",
    "# for accuracy\n",
    "correct_prediction = tf.equal(tf.argmax(h_fc2, 1), tf.argmax(y_, 1))\n",
    "accuracy = tf.reduce_mean(tf.cast(correct_prediction, dtype = tf.float32))"
   ]
  },
  {
   "cell_type": "markdown",
   "metadata": {},
   "source": [
    "### Step3.\n",
    "Train the model"
   ]
  },
  {
   "cell_type": "markdown",
   "metadata": {},
   "source": [
    "Interactive Session vs. Session\n",
    "- 在交互式的会话中，可以一边构造计算图，一边进行运算\n",
    "- 在静态的会话中，先构造整个网络（包括y / cost / train / accuracy），然后执行所有的run操作（在with tf.Session() as session中进行）\n",
    "- with ... as ... 会在退出之后，自动清除session"
   ]
  },
  {
   "cell_type": "code",
   "execution_count": 85,
   "metadata": {},
   "outputs": [
    {
     "name": "stdout",
     "output_type": "stream",
     "text": [
      "Step 0: 0.03999999910593033\n",
      "Step 100: 0.8799999952316284\n",
      "Step 200: 0.8999999761581421\n",
      "Step 300: 0.9800000190734863\n",
      "Step 400: 0.9200000166893005\n",
      "Step 500: 0.9200000166893005\n",
      "Step 600: 0.9200000166893005\n",
      "Step 700: 0.9800000190734863\n",
      "Step 800: 0.9800000190734863\n",
      "Step 900: 0.9599999785423279\n",
      "Step 1000: 0.9200000166893005\n",
      "Step 1100: 0.9200000166893005\n",
      "Step 1200: 0.9599999785423279\n",
      "Step 1300: 0.9399999976158142\n",
      "Step 1400: 0.9800000190734863\n",
      "Step 1500: 1.0\n",
      "Step 1600: 0.9800000190734863\n",
      "Step 1700: 0.9800000190734863\n",
      "Step 1800: 0.9599999785423279\n",
      "Step 1900: 1.0\n",
      "Step 2000: 0.9599999785423279\n",
      "Step 2100: 0.9800000190734863\n",
      "Step 2200: 0.9599999785423279\n",
      "Step 2300: 0.9800000190734863\n",
      "Step 2400: 0.9800000190734863\n",
      "Step 2500: 1.0\n",
      "Step 2600: 0.9800000190734863\n",
      "Step 2700: 0.9599999785423279\n",
      "Step 2800: 1.0\n",
      "Step 2900: 0.9399999976158142\n",
      "Step 3000: 0.9800000190734863\n",
      "Step 3100: 0.9599999785423279\n",
      "Step 3200: 0.9599999785423279\n",
      "Step 3300: 1.0\n",
      "Step 3400: 1.0\n",
      "Step 3500: 0.9800000190734863\n",
      "Step 3600: 1.0\n",
      "Step 3700: 0.9800000190734863\n",
      "Step 3800: 0.9800000190734863\n",
      "Step 3900: 1.0\n",
      "Step 4000: 0.9599999785423279\n",
      "Step 4100: 0.9599999785423279\n",
      "Step 4200: 0.9800000190734863\n",
      "Step 4300: 1.0\n",
      "Step 4400: 0.9399999976158142\n",
      "Step 4500: 0.9800000190734863\n",
      "Step 4600: 1.0\n",
      "Step 4700: 0.9800000190734863\n",
      "Step 4800: 1.0\n",
      "Step 4900: 1.0\n",
      "Test accuracy: 0.99\n"
     ]
    }
   ],
   "source": [
    "\n",
    "with tf.Session() as session:\n",
    "    session.run(tf.global_variables_initializer())\n",
    "    \n",
    "    for iter in range(5000):\n",
    "        # get next batch of train data\n",
    "        batch = mnist.train.next_batch(50)\n",
    "        if iter%100 ==0:\n",
    "            accu = accuracy.eval(feed_dict={x: batch[0], y_:batch[1], keep_prob:1.0 })\n",
    "            print((\"Step {}: {}\").format(iter, accu))\n",
    "        train_step.run(feed_dict={x:batch[0], y_:batch[1], keep_prob:0.5})\n",
    "        \n",
    "    print(\"Test accuracy: %.2f\" % accuracy.eval(feed_dict={x:mnist.test.images, y_:mnist.test.labels, keep_prob:1.0}))"
   ]
  },
  {
   "cell_type": "markdown",
   "metadata": {},
   "source": [
    "<hr/>"
   ]
  },
  {
   "cell_type": "markdown",
   "metadata": {},
   "source": [
    "### Summary\n",
    "The basic steps:\n",
    "1. Data: acquire, preprocess\n",
    "2. Model: construct the model to be train\n",
    "3. Computational graph: model, cost, train node, accuracy\n",
    "4. Train & Testing: using a static session"
   ]
  }
 ],
 "metadata": {
  "kernelspec": {
   "display_name": "Python 3",
   "language": "python",
   "name": "python3"
  },
  "language_info": {
   "codemirror_mode": {
    "name": "ipython",
    "version": 3
   },
   "file_extension": ".py",
   "mimetype": "text/x-python",
   "name": "python",
   "nbconvert_exporter": "python",
   "pygments_lexer": "ipython3",
   "version": "3.6.1"
  }
 },
 "nbformat": 4,
 "nbformat_minor": 2
}

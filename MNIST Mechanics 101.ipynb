{
 "cells": [
  {
   "cell_type": "markdown",
   "metadata": {},
   "source": [
    "# Tensorflow Mechanics: MNIST"
   ]
  },
  {
   "cell_type": "code",
   "execution_count": 43,
   "metadata": {
    "collapsed": true
   },
   "outputs": [],
   "source": [
    "from __future__ import absolute_import\n",
    "from __future__ import division\n",
    "from __future__ import print_function\n",
    "\n",
    "import math\n",
    "\n",
    "import tensorflow as tf\n",
    "\n",
    "# 识别的类别数\n",
    "NUM_CLASSES = 10\n",
    "\n",
    "# 输入图像的尺寸\n",
    "IMAGE_SIZE = 28\n",
    "IMAGE_PIXELS = IMAGE_SIZE * IMAGE_SIZE"
   ]
  },
  {
   "cell_type": "markdown",
   "metadata": {},
   "source": [
    "## Part I. Build the network\n",
    "三个构造的步骤\n",
    "1. Inference: 构造计算图用来得到prediction\n",
    "2. Loss: 在Inference之上，添加节点来计算网络的损失\n",
    "3. Train: 在Loss之上，添加训练网络的节点\n",
    "4. Evaluation: 模型性能评估的计算节点"
   ]
  },
  {
   "cell_type": "markdown",
   "metadata": {},
   "source": [
    "#### Some function\n",
    "- tf.name_scope(): 返回一个context manager，来管理属于这个scope的操作。\n",
    "- tf.to_int64(): 进行tensor数据类型的变换\n",
    "- tf.summary: 用来进行训练过程的记录的模块\\*\\*\n",
    "- tf.nn.in_top_k(prediction, target, k, name): target的分类（ground truth）是否在prediction的各类概率的top-k之内\n",
    "- tf.Variable(0, trainable = False): 指定不可训练的变量 （往往将训练的步数作为不可训练的变量）"
   ]
  },
  {
   "cell_type": "markdown",
   "metadata": {},
   "source": [
    "#### Some concepts:\n",
    "- tensorflow会通过collection来记录可以训练的变量，并在optimize的时候更新这个collection中的变量"
   ]
  },
  {
   "cell_type": "code",
   "execution_count": 44,
   "metadata": {
    "collapsed": true
   },
   "outputs": [],
   "source": [
    "# 网络由两个全连接的隐层，和一个sofmax层组成\n",
    "# 使用tf.name_scope简化命名\n",
    "\n",
    "def inference(images, hidden1_units, hidden2_units):\n",
    "  \"\"\"Build the MNIST model up to where it may be used for inference.\n",
    "\n",
    "  Args:\n",
    "    images: Images placeholder, from inputs().\n",
    "    hidden1_units: Size of the first hidden layer.\n",
    "    hidden2_units: Size of the second hidden layer.\n",
    "\n",
    "  Returns:\n",
    "    softmax_linear: Output tensor with the computed logits.\n",
    "  \"\"\"\n",
    "  # Hidden 1\n",
    "  with tf.name_scope('hidden1'):\n",
    "    weights = tf.Variable(\n",
    "        tf.truncated_normal([IMAGE_PIXELS, hidden1_units],\n",
    "                            stddev=1.0 / math.sqrt(float(IMAGE_PIXELS))),\n",
    "        name='weights')\n",
    "    biases = tf.Variable(tf.zeros([hidden1_units]),\n",
    "                         name='biases')\n",
    "    hidden1 = tf.nn.relu(tf.matmul(images, weights) + biases)\n",
    "    tf.summary.histogram('hidden1_activation', hidden1)\n",
    "    \n",
    "  # Hidden 2\n",
    "  with tf.name_scope('hidden2'):\n",
    "    weights = tf.Variable(\n",
    "        tf.truncated_normal([hidden1_units, hidden2_units],\n",
    "                            stddev=1.0 / math.sqrt(float(hidden1_units))),\n",
    "        name='weights')\n",
    "    biases = tf.Variable(tf.zeros([hidden2_units]),\n",
    "                         name='biases')\n",
    "    hidden2 = tf.nn.relu(tf.matmul(hidden1, weights) + biases)\n",
    "    tf.summary.histogram('hidden2_activation', hidden2)\n",
    "    \n",
    "  # Linear\n",
    "  with tf.name_scope('softmax_linear'):\n",
    "    weights = tf.Variable(\n",
    "        tf.truncated_normal([hidden2_units, NUM_CLASSES],\n",
    "                            stddev=1.0 / math.sqrt(float(hidden2_units))),\n",
    "        name='weights')\n",
    "    biases = tf.Variable(tf.zeros([NUM_CLASSES]),\n",
    "                         name='biases')\n",
    "    logits = tf.matmul(hidden2, weights) + biases\n",
    "    tf.summary.histogram('logits', logits)\n",
    "    \n",
    "    return logits"
   ]
  },
  {
   "cell_type": "code",
   "execution_count": 45,
   "metadata": {
    "collapsed": true
   },
   "outputs": [],
   "source": [
    "# 使用交叉熵定义网络的loss\n",
    "\n",
    "def loss(logits, labels):\n",
    "  \"\"\"Calculates the loss from the logits and the labels.\n",
    "\n",
    "  Args:\n",
    "    logits: Logits tensor, float - [batch_size, NUM_CLASSES].\n",
    "    labels: Labels tensor, int32 - [batch_size].\n",
    "\n",
    "  Returns:\n",
    "    loss: Loss tensor of type float.\n",
    "  \"\"\"\n",
    "  with tf.name_scope('loss'):\n",
    "    labels = tf.to_int64(labels)\n",
    "    cross_entropy = tf.nn.sparse_softmax_cross_entropy_with_logits(\n",
    "      labels=labels, logits=logits, name='xentropy')\n",
    "    return tf.reduce_mean(cross_entropy, name='xentropy_mean')"
   ]
  },
  {
   "cell_type": "code",
   "execution_count": 46,
   "metadata": {
    "collapsed": true
   },
   "outputs": [],
   "source": [
    "# 使用梯度下降来优化参数，其中将运行的步骤也作为一个全局的输入值\n",
    "# summary可以用来记录一个节点的变化情况\n",
    "\n",
    "def training(loss, learning_rate):\n",
    "  \"\"\"Sets up the training Ops.\n",
    "\n",
    "  Creates a summarizer to track the loss over time in TensorBoard.\n",
    "\n",
    "  Creates an optimizer and applies the gradients to all trainable variables.\n",
    "\n",
    "  The Op returned by this function is what must be passed to the\n",
    "  `sess.run()` call to cause the model to train.\n",
    "\n",
    "  Args:\n",
    "    loss: Loss tensor, from loss().\n",
    "    learning_rate: The learning rate to use for gradient descent.\n",
    "\n",
    "  Returns:\n",
    "    train_op: The Op for training.\n",
    "  \"\"\"\n",
    "  with tf.name_scope('training'):\n",
    "    # Add a scalar summary for the snapshot loss.\n",
    "    tf.summary.scalar('loss', loss)\n",
    "    # Create the gradient descent optimizer with the given learning rate.\n",
    "    optimizer = tf.train.GradientDescentOptimizer(learning_rate)\n",
    "    # Create a variable to track the global step.\n",
    "    global_step = tf.Variable(0, name='global_step', trainable=False)\n",
    "    # Use the optimizer to apply the gradients that minimize the loss\n",
    "    # (and also increment the global step counter) as a single training step.\n",
    "    train_op = optimizer.minimize(loss, global_step=global_step)\n",
    "    return train_op"
   ]
  },
  {
   "cell_type": "code",
   "execution_count": 47,
   "metadata": {
    "collapsed": true
   },
   "outputs": [],
   "source": [
    "# 构造模型性能评估的计算节点\n",
    "\n",
    "def evaluation(logits, labels):\n",
    "  \"\"\"Evaluate the quality of the logits at predicting the label.\n",
    "\n",
    "  Args:\n",
    "    logits: Logits tensor, float - [batch_size, NUM_CLASSES].\n",
    "    labels: Labels tensor, int32 - [batch_size], with values in the\n",
    "      range [0, NUM_CLASSES).\n",
    "\n",
    "  Returns:\n",
    "    A scalar int32 tensor with the number of examples (out of batch_size)\n",
    "    that were predicted correctly.\n",
    "  \"\"\"\n",
    "  with tf.name_scope('eval'):\n",
    "    # For a classifier model, we can use the in_top_k Op.\n",
    "    # It returns a bool tensor with shape [batch_size] that is true for\n",
    "    # the examples where the label is in the top k (here k=1)\n",
    "    # of all logits for that example.\n",
    "    correct = tf.nn.in_top_k(logits, labels, 1)\n",
    "    # Return the number of true entries.\n",
    "    return tf.reduce_sum(tf.cast(correct, tf.int32))"
   ]
  },
  {
   "cell_type": "markdown",
   "metadata": {},
   "source": [
    "# Part II. Train the network\n"
   ]
  },
  {
   "cell_type": "markdown",
   "metadata": {},
   "source": [
    "#### Some functions:\n",
    "- //用来取商；%用来取余数\n",
    "- tf.Graph(): 创建一个新的graph(图是包含数据节点和操作节点的一个collection)\n",
    "- graph.as_default(): 将graph作为当前默认的graph，所有产生的node都会添加到这个graph对应的collection中\n",
    "- xrange和range: 在2中，range产生list而xrange产生range生成器对象；在3中，两者都产生range对象"
   ]
  },
  {
   "cell_type": "markdown",
   "metadata": {},
   "source": [
    "#### Some concepts:\n",
    "- graph: 其中定义了计算图的数据节点(placeholder % variable)，以及相应的计算操作\n",
    "- session: 定义了运行一次graph所对应的环境，同时会保存graph运行过程中各个变量的值\n",
    "- graph和session可以分别与static和runtime相对应\n",
    "- tf.group是一个将多个计算操作打包的class\n",
    "- global_variable_initializer是对所有包含initializer的变量进行初始化的操作\n",
    "- Tensor节点在session.run()返回时，数据类型是numpy.ndarray；如果操作没有输出，则返回None"
   ]
  },
  {
   "cell_type": "code",
   "execution_count": 48,
   "metadata": {
    "collapsed": true
   },
   "outputs": [],
   "source": [
    "# pylint: disable=missing-docstring\n",
    "import argparse  #解析命令行参数\n",
    "import os.path\n",
    "import sys\n",
    "import time\n",
    "\n",
    "from six.moves import xrange  # pylint: disable=redefined-builtin\n",
    "import tensorflow as tf\n",
    "\n",
    "from tensorflow.examples.tutorials.mnist import input_data\n",
    "from tensorflow.examples.tutorials.mnist import mnist\n",
    "\n",
    "# Basic model parameters as external flags.\n",
    "# 类似于记录网络和训练的控制信号\n",
    "# batch_size, log_dir, input_data_dir, fake_data， hidden1, hidden2, learning_rate, \n",
    "FLAGS = None"
   ]
  },
  {
   "cell_type": "code",
   "execution_count": 49,
   "metadata": {
    "collapsed": true
   },
   "outputs": [],
   "source": [
    "# 获得模型用来喂入数据的placeholder\n",
    "# 由于这里使用的均为全连接层，因此将图像的数据需要flatten成一维的向量\n",
    "\n",
    "def placeholder_inputs(batch_size):\n",
    "  \"\"\"Generate placeholder variables to represent the input tensors.\n",
    "\n",
    "  These placeholders are used as inputs by the rest of the model building\n",
    "  code and will be fed from the downloaded data in the .run() loop, below.\n",
    "\n",
    "  Args:\n",
    "    batch_size: The batch size will be baked into both placeholders.\n",
    "\n",
    "  Returns:\n",
    "    images_placeholder: Images placeholder.\n",
    "    labels_placeholder: Labels placeholder.\n",
    "  \"\"\"\n",
    "  # Note that the shapes of the placeholders match the shapes of the full\n",
    "  # image and label tensors, except the first dimension is now batch_size\n",
    "  # rather than the full size of the train or test data sets.\n",
    "  images_placeholder = tf.placeholder(tf.float32, shape=(batch_size,\n",
    "                                                         mnist.IMAGE_PIXELS))\n",
    "  labels_placeholder = tf.placeholder(tf.int32, shape=(batch_size))\n",
    "  return images_placeholder, labels_placeholder"
   ]
  },
  {
   "cell_type": "code",
   "execution_count": 50,
   "metadata": {
    "collapsed": true
   },
   "outputs": [],
   "source": [
    "# 获得下一个batch喂入的数据\n",
    "\n",
    "def fill_feed_dict(data_set, images_pl, labels_pl):\n",
    "  \"\"\"Fills the feed_dict for training the given step.\n",
    "\n",
    "  A feed_dict takes the form of:\n",
    "  feed_dict = {\n",
    "      <placeholder>: <tensor of values to be passed for placeholder>,\n",
    "      ....\n",
    "  }\n",
    "\n",
    "  Args:\n",
    "    data_set: The set of images and labels, from input_data.read_data_sets()\n",
    "    images_pl: The images placeholder, from placeholder_inputs().\n",
    "    labels_pl: The labels placeholder, from placeholder_inputs().\n",
    "\n",
    "  Returns:\n",
    "    feed_dict: The feed dictionary mapping from placeholders to values.\n",
    "  \"\"\"\n",
    "  # Create the feed_dict for the placeholders filled with the next\n",
    "  # `batch size` examples.\n",
    "  images_feed, labels_feed = data_set.next_batch(FLAGS.batch_size,\n",
    "                                                 FLAGS.fake_data)\n",
    "  feed_dict = {\n",
    "      images_pl: images_feed,\n",
    "      labels_pl: labels_feed,\n",
    "  }\n",
    "\n",
    "  return feed_dict"
   ]
  },
  {
   "cell_type": "code",
   "execution_count": 51,
   "metadata": {
    "collapsed": true
   },
   "outputs": [],
   "source": [
    "# 评价网络的性能\n",
    "# 这里对于输入的dataset，运行一个epoch，但是每个epoch分成多个batch运行并统计结果\n",
    "\n",
    "def do_eval(sess,\n",
    "            eval_correct,\n",
    "            images_placeholder,\n",
    "            labels_placeholder,\n",
    "            data_set):\n",
    "    \"\"\"Runs one evaluation against the full epoch of data.\n",
    "\n",
    "    Args:\n",
    "    sess: The session in which the model has been trained.\n",
    "    eval_correct: The Tensor that returns the number of correct predictions.\n",
    "    images_placeholder: The images placeholder.\n",
    "    labels_placeholder: The labels placeholder.\n",
    "    data_set: The set of images and labels to evaluate, from\n",
    "      input_data.read_data_sets().\n",
    "      \"\"\"\n",
    "# And run one epoch of eval.。\n",
    "    true_count = 0  # Counts the number of correct predictions.\n",
    "    steps_per_epoch = data_set.num_examples // FLAGS.batch_size\n",
    "    num_examples = steps_per_epoch * FLAGS.batch_size\n",
    "    for step in xrange(steps_per_epoch):\n",
    "        # 获得喂入的数据集合\n",
    "        feed_dict = fill_feed_dict(data_set, images_placeholder, labels_placeholder)\n",
    "        # 运行性能评估的节点\n",
    "        true_count += sess.run(eval_correct, feed_dict=feed_dict)\n",
    "    precision = float(true_count) / num_examples\n",
    "    print('  Num examples: %d  Num correct: %d  Precision @ 1: %0.04f' %(num_examples, true_count, precision))"
   ]
  },
  {
   "cell_type": "markdown",
   "metadata": {},
   "source": [
    "#### About Summary module:\n",
    "- 定义不同的summary ops\n",
    "- 合并所有的summary ops\n",
    "- 用session实例创建summary_writer（writer只和session相关联）\n",
    "- 记录summary: 运行合并的summary节点，将结果str用summary writer写到磁盘上\n",
    "    - 写操作是append，即会在logdir中带有tfevent的文件末尾继续写（为了记录训练过程中可能发生的所有事件）\n",
    "    - 需要将summary数据分开保存，只能使用不同的子目录\n",
    "- 记录checkpoint: tf.train.Saver()将当前session的状态写到磁盘上\n",
    "- <b>summary是计算图的一部分，可以产生summary string; 而summary writer只和session和文件相关，将summary_str写到磁盘中</b>\n"
   ]
  },
  {
   "cell_type": "markdown",
   "metadata": {},
   "source": [
    "#### About Checkpoint module:\n",
    "- 创建saver实例：tf.train.Saver()（saver的创建不与session相关）\n",
    "- 需要保存的时候，使用saver.save接口保存session的运行状态，包括参数的当前值；可以指定global_step来标记不同的save文件\n",
    "- 可以通过reload接口来恢复保存的parameter"
   ]
  },
  {
   "cell_type": "markdown",
   "metadata": {},
   "source": [
    "#### About Embeddings (以显示子图为例)\n",
    "- 需要有一个变量保存input data：embedding_var（初始化为感兴趣一个input_data集合，不可训练，命名）\n",
    "    - 这个变量是计算图的一部分，因此需要在后面生成初始化操作，并执行初始化\n",
    "    - 要么用ineractive session动态添加节点，要么创建完embedding节点之后在生成session实例\n",
    "    - <b>确保必须完成初始化</b>\n",
    "- ``config=projector.ProjectorConfig()``：生成protocol message的实例\n",
    "- ``embedding=config.embeddings.add()``：添加一个embedding\n",
    "- ``embedding.tensor_name``：用tensor的name与tensor相关联\n",
    "- ``embedding.metadata_path``：指定这个embedding的metadata路径（这里metadata是指定的input data相对应的label）\n",
    "- ``embedding.sprite.image_path``：告诉tensorflow从哪里去找包含用于显示的子图（与input_data相对应）\n",
    "- ``embedding.sprite.single_image_dim.extend``：告诉tensorflow子图的size，从而可以进行分解\n",
    "- ``projector.visualize_embeddings(summary_writer, config)``：将embedding的配置信息写到pbtxt文件中，在启动tesorboard的时候会读取该文件\n",
    "    - 这个步骤之前必须生成summary_writer\n",
    "    - 而summary_writer生成的时候需要传入session的graph，要先生成session实例\n",
    "    \n",
    "#### About Embedding:\n",
    "- A map: \\\\(f:x\\rightarrow y\\\\) \\\\(\\Leftrightarrow\\\\) \\\\(Space_{A}\\rightarrow Space_{B}\\\\)\n",
    "- injective and structure preserving\n",
    "\n",
    "#### About How TB work to show embeddings:\n",
    "- load checkpoint file\n",
    "- (not sure) load weights for stored iterations\n",
    "- run the graph with embedding_var as input_images\n",
    "- find nearest neighbor for network output (transfer to lower space, e.g. 2D or 3D)"
   ]
  },
  {
   "cell_type": "code",
   "execution_count": 83,
   "metadata": {
    "collapsed": true
   },
   "outputs": [],
   "source": [
    "from tensorflow.contrib.tensorboard.plugins import projector\n",
    "\n",
    "def run_training():\n",
    "  print(\"starting\")\n",
    "  \"\"\"Train MNIST for a number of steps.\"\"\"\n",
    "  # Get the sets of images and labels for training, validation, and\n",
    "  # test on MNIST.\n",
    "  data_sets = input_data.read_data_sets(FLAGS.input_data_dir, FLAGS.fake_data)\n",
    "  print('load data: finished')\n",
    "  # Tell TensorFlow that the model will be built into the default Graph.\n",
    "  with tf.Graph().as_default():\n",
    "    # 构造计算图\n",
    "    # Generate placeholders for the images and labels.\n",
    "    images_placeholder, labels_placeholder = placeholder_inputs(FLAGS.batch_size)\n",
    "    # Build a Graph that computes predictions from the inference model.\n",
    "    logits = inference(images_placeholder, FLAGS.hidden1, FLAGS.hidden2)\n",
    "    # Add to the Graph the Ops for loss calculation.\n",
    "    loss_ = loss(logits, labels_placeholder)\n",
    "    # Add to the Graph the Ops that calculate and apply gradients.\n",
    "    train_op = training(loss_, FLAGS.learning_rate)\n",
    "    # Add the Op to compare the logits to the labels during evaluation.\n",
    "    eval_correct = evaluation(logits, labels_placeholder)\n",
    "    # Build the summary Tensor based on the TF collection of Summaries.\n",
    "    summary = tf.summary.merge_all()\n",
    "################### embedding ######################\n",
    "    # 生成embeddings的变量\n",
    "    with tf.device(\"/cpu:0\"):\n",
    "        embedding_var = tf.Variable(tf.stack(data_sets.test.images[:FLAGS.max_steps], axis=0), trainable=False, name='embedding')\n",
    "    \n",
    "    sess = tf.InteractiveSession()\n",
    "    init = tf.global_variables_initializer()\n",
    "    sess.run(init)\n",
    "    \n",
    "    saver = tf.train.Saver()\n",
    "    summary_writer = tf.summary.FileWriter(FLAGS.log_dir, sess.graph)\n",
    "    \n",
    "    config = projector.ProjectorConfig()\n",
    "    embedding = config.embeddings.add()\n",
    "    embedding.tensor_name = embedding_var.name\n",
    "    embedding.metadata_path = os.path.join(FLAGS.input_data_dir, 'metadata.tsv')\n",
    "    \n",
    "    embedding.sprite.image_path = os.path.join(FLAGS.input_data_dir, 'mnist_10k_sprite.png')\n",
    "    embedding.sprite.single_image_dim.extend([IMAGE_SIZE, IMAGE_SIZE])\n",
    "    \n",
    "    projector.visualize_embeddings(summary_writer, config)\n",
    "################### embedding #########################    \n",
    "    # Start the training loop.\n",
    "    for step in xrange(FLAGS.max_steps):\n",
    "      start_time = time.time()\n",
    "\n",
    "      # Fill a feed dictionary with the actual set of images and labels\n",
    "      # for this particular training step.\n",
    "      # 构造一个字典表示喂入的数据\n",
    "      feed_dict = fill_feed_dict(data_sets.train, images_placeholder, labels_placeholder)\n",
    "\n",
    "      # Run one step of the model.  The return values are the activations\n",
    "      # from the `train_op` (which is discarded) and the `loss` Op.  To\n",
    "      # inspect the values of your Ops or variables, you may include them\n",
    "      # in the list passed to sess.run() and the value tensors will be\n",
    "      # returned in the tuple from the call.\n",
    "      # 训练一次，并计算初始的loss\n",
    "      _, loss_value = sess.run([train_op, loss_], feed_dict=feed_dict)\n",
    "\n",
    "      duration = time.time() - start_time\n",
    "\n",
    "      # 定期记录训练的状态（summary）\n",
    "      # Write the summaries and print an overview fairly often.\n",
    "      if step % 100 == 0:\n",
    "        # Print status to stdout.\n",
    "        print('Step %d: loss = %.2f (%.3f sec)' % (step, loss_value, duration))\n",
    "        # Update the events file.\n",
    "        summary_str = sess.run(summary, feed_dict=feed_dict)\n",
    "        summary_writer.add_summary(summary_str, step)\n",
    "        summary_writer.flush()\n",
    "\n",
    "      # (checkpoint)\n",
    "      # Save a checkpoint and evaluate the model periodically.\n",
    "      if (step + 1) % 1000 == 0 or (step + 1) == FLAGS.max_steps:\n",
    "        checkpoint_file = os.path.join(FLAGS.log_dir, 'model.ckpt')\n",
    "        saver.save(sess, checkpoint_file, global_step=step)\n",
    "        # Evaluate against the training set.\n",
    "        print('Training Data Eval:')\n",
    "        do_eval(sess, eval_correct, images_placeholder, labels_placeholder, data_sets.train)\n",
    "        # Evaluate against the validation set.\n",
    "        print('Validation Data Eval:')\n",
    "        do_eval(sess, eval_correct, images_placeholder, labels_placeholder, data_sets.validation)\n",
    "        # Evaluate against the test set.\n",
    "        print('Test Data Eval:')\n",
    "        do_eval(sess, eval_correct, images_placeholder, labels_placeholder, data_sets.test)"
   ]
  },
  {
   "cell_type": "code",
   "execution_count": 84,
   "metadata": {
    "scrolled": false
   },
   "outputs": [
    {
     "name": "stdout",
     "output_type": "stream",
     "text": [
      "starting\n",
      "Extracting /Users/luzhoutao/tensorflow/learning/MNIST_data/train-images-idx3-ubyte.gz\n",
      "Extracting /Users/luzhoutao/tensorflow/learning/MNIST_data/train-labels-idx1-ubyte.gz\n",
      "Extracting /Users/luzhoutao/tensorflow/learning/MNIST_data/t10k-images-idx3-ubyte.gz\n",
      "Extracting /Users/luzhoutao/tensorflow/learning/MNIST_data/t10k-labels-idx1-ubyte.gz\n",
      "load data: finished\n",
      "Step 0: loss = 2.33 (0.171 sec)\n",
      "Step 100: loss = 2.17 (0.003 sec)\n",
      "Step 200: loss = 1.97 (0.002 sec)\n",
      "Step 300: loss = 1.63 (0.001 sec)\n",
      "Step 400: loss = 1.47 (0.002 sec)\n",
      "Step 500: loss = 1.13 (0.002 sec)\n",
      "Step 600: loss = 0.72 (0.002 sec)\n",
      "Step 700: loss = 0.65 (0.002 sec)\n",
      "Step 800: loss = 0.67 (0.002 sec)\n",
      "Step 900: loss = 0.44 (0.001 sec)\n",
      "Training Data Eval:\n",
      "  Num examples: 55000  Num correct: 47250  Precision @ 1: 0.8591\n",
      "Validation Data Eval:\n",
      "  Num examples: 5000  Num correct: 4338  Precision @ 1: 0.8676\n",
      "Test Data Eval:\n",
      "  Num examples: 10000  Num correct: 8649  Precision @ 1: 0.8649\n",
      "Step 1000: loss = 0.42 (0.017 sec)\n",
      "Step 1100: loss = 0.50 (0.116 sec)\n",
      "Step 1200: loss = 0.44 (0.002 sec)\n",
      "Step 1300: loss = 0.33 (0.002 sec)\n",
      "Step 1400: loss = 0.44 (0.002 sec)\n",
      "Step 1500: loss = 0.33 (0.002 sec)\n",
      "Step 1600: loss = 0.37 (0.002 sec)\n",
      "Step 1700: loss = 0.47 (0.002 sec)\n",
      "Step 1800: loss = 0.28 (0.002 sec)\n",
      "Step 1900: loss = 0.43 (0.002 sec)\n",
      "Training Data Eval:\n",
      "  Num examples: 55000  Num correct: 49249  Precision @ 1: 0.8954\n",
      "Validation Data Eval:\n",
      "  Num examples: 5000  Num correct: 4500  Precision @ 1: 0.9000\n",
      "Test Data Eval:\n",
      "  Num examples: 10000  Num correct: 8998  Precision @ 1: 0.8998\n",
      "Step 2000: loss = 0.40 (0.015 sec)\n",
      "Step 2100: loss = 0.28 (0.002 sec)\n",
      "Step 2200: loss = 0.27 (0.129 sec)\n",
      "Step 2300: loss = 0.23 (0.002 sec)\n",
      "Step 2400: loss = 0.30 (0.001 sec)\n",
      "Step 2500: loss = 0.30 (0.002 sec)\n",
      "Step 2600: loss = 0.18 (0.002 sec)\n",
      "Step 2700: loss = 0.47 (0.003 sec)\n",
      "Step 2800: loss = 0.29 (0.002 sec)\n",
      "Step 2900: loss = 0.39 (0.002 sec)\n",
      "Training Data Eval:\n",
      "  Num examples: 55000  Num correct: 49751  Precision @ 1: 0.9046\n",
      "Validation Data Eval:\n",
      "  Num examples: 5000  Num correct: 4561  Precision @ 1: 0.9122\n",
      "Test Data Eval:\n",
      "  Num examples: 10000  Num correct: 9099  Precision @ 1: 0.9099\n",
      "Step 3000: loss = 0.30 (0.016 sec)\n",
      "Step 3100: loss = 0.24 (0.002 sec)\n",
      "Step 3200: loss = 0.44 (0.002 sec)\n",
      "Step 3300: loss = 0.36 (0.122 sec)\n",
      "Step 3400: loss = 0.15 (0.002 sec)\n",
      "Step 3500: loss = 0.16 (0.002 sec)\n",
      "Step 3600: loss = 0.24 (0.002 sec)\n",
      "Step 3700: loss = 0.36 (0.002 sec)\n",
      "Step 3800: loss = 0.09 (0.002 sec)\n",
      "Step 3900: loss = 0.42 (0.002 sec)\n",
      "Training Data Eval:\n",
      "  Num examples: 55000  Num correct: 50298  Precision @ 1: 0.9145\n",
      "Validation Data Eval:\n",
      "  Num examples: 5000  Num correct: 4617  Precision @ 1: 0.9234\n",
      "Test Data Eval:\n",
      "  Num examples: 10000  Num correct: 9174  Precision @ 1: 0.9174\n",
      "Step 4000: loss = 0.43 (0.021 sec)\n",
      "Step 4100: loss = 0.35 (0.002 sec)\n",
      "Step 4200: loss = 0.33 (0.003 sec)\n",
      "Step 4300: loss = 0.19 (0.002 sec)\n",
      "Step 4400: loss = 0.23 (0.138 sec)\n",
      "Step 4500: loss = 0.21 (0.002 sec)\n",
      "Step 4600: loss = 0.17 (0.003 sec)\n",
      "Step 4700: loss = 0.17 (0.002 sec)\n",
      "Step 4800: loss = 0.21 (0.002 sec)\n",
      "Step 4900: loss = 0.20 (0.003 sec)\n",
      "Training Data Eval:\n",
      "  Num examples: 55000  Num correct: 50676  Precision @ 1: 0.9214\n",
      "Validation Data Eval:\n",
      "  Num examples: 5000  Num correct: 4641  Precision @ 1: 0.9282\n",
      "Test Data Eval:\n",
      "  Num examples: 10000  Num correct: 9258  Precision @ 1: 0.9258\n"
     ]
    },
    {
     "ename": "SystemExit",
     "evalue": "",
     "output_type": "error",
     "traceback": [
      "An exception has occurred, use %tb to see the full traceback.\n",
      "\u001b[0;31mSystemExit\u001b[0m\n"
     ]
    },
    {
     "name": "stderr",
     "output_type": "stream",
     "text": [
      "/Users/luzhoutao/anaconda/lib/python3.6/site-packages/IPython/core/interactiveshell.py:2889: UserWarning: To exit: use 'exit', 'quit', or Ctrl-D.\n",
      "  warn(\"To exit: use 'exit', 'quit', or Ctrl-D.\", stacklevel=1)\n"
     ]
    }
   ],
   "source": [
    "def main(_):\n",
    "  if tf.gfile.Exists(FLAGS.log_dir):\n",
    "    tf.gfile.DeleteRecursively(FLAGS.log_dir)\n",
    "  tf.gfile.MakeDirs(FLAGS.log_dir)\n",
    "  run_training()\n",
    "\n",
    "\n",
    "if __name__ == '__main__':\n",
    "  parser = argparse.ArgumentParser()\n",
    "  parser.add_argument(\n",
    "      '--learning_rate',\n",
    "      type=float,\n",
    "      default=0.01,\n",
    "      help='Initial learning rate.'\n",
    "  )\n",
    "  parser.add_argument(\n",
    "      '--max_steps',\n",
    "      type=int,\n",
    "      default=5000,\n",
    "      help='Number of steps to run trainer.'\n",
    "  )\n",
    "  parser.add_argument(\n",
    "      '--hidden1',\n",
    "      type=int,\n",
    "      default=128,\n",
    "      help='Number of units in hidden layer 1.'\n",
    "  )\n",
    "  parser.add_argument(\n",
    "      '--hidden2',\n",
    "      type=int,\n",
    "      default=32,\n",
    "      help='Number of units in hidden layer 2.'\n",
    "  )\n",
    "  parser.add_argument(\n",
    "      '--batch_size',\n",
    "      type=int,\n",
    "      default=50,\n",
    "      help='Batch size.  Must divide evenly into the dataset sizes.'\n",
    "  )\n",
    "  parser.add_argument(\n",
    "      '--input_data_dir',\n",
    "      type=str,\n",
    "      default='/Users/luzhoutao/tensorflow/learning/MNIST_data/',\n",
    "      help='Directory to put the input data.'\n",
    "  )\n",
    "  parser.add_argument(\n",
    "      '--log_dir',\n",
    "      type=str,\n",
    "      default='/Users/luzhoutao/tensorflow/learning/mechanics/run2/',\n",
    "      help='Directory to put the log data.'\n",
    "  )\n",
    "  parser.add_argument(\n",
    "      '--fake_data',\n",
    "      default=False,\n",
    "      help='If true, uses fake data for unit testing.',\n",
    "      action='store_true'\n",
    "  )\n",
    "\n",
    "  FLAGS, unparsed = parser.parse_known_args()\n",
    "  tf.app.run(main=main, argv=[sys.argv[0]] + unparsed)"
   ]
  },
  {
   "cell_type": "code",
   "execution_count": 36,
   "metadata": {},
   "outputs": [
    {
     "name": "stdout",
     "output_type": "stream",
     "text": [
      "Extracting ./MNIST_data/train-images-idx3-ubyte.gz\n",
      "Extracting ./MNIST_data/train-labels-idx1-ubyte.gz\n",
      "Extracting ./MNIST_data/t10k-images-idx3-ubyte.gz\n",
      "Extracting ./MNIST_data/t10k-labels-idx1-ubyte.gz\n"
     ]
    }
   ],
   "source": [
    "mnist = input_data.read_data_sets(\"./MNIST_data\")"
   ]
  },
  {
   "cell_type": "code",
   "execution_count": 62,
   "metadata": {},
   "outputs": [],
   "source": [
    "def save_metadata(file):\n",
    "    with open(file, 'w') as f:\n",
    "        for i in range(FLAGS.max_steps):\n",
    "            c = data_sets.test.labels[i]\n",
    "            f.write('{}\\n'.format(c))"
   ]
  },
  {
   "cell_type": "code",
   "execution_count": 63,
   "metadata": {},
   "outputs": [],
   "source": [
    "save_metadata(os.path.join(FLAGS.log_dir, 'metadata.tsv'))"
   ]
  },
  {
   "cell_type": "code",
   "execution_count": 58,
   "metadata": {
    "scrolled": true
   },
   "outputs": [
    {
     "data": {
      "text/plain": [
       "(10, 784)"
      ]
     },
     "execution_count": 58,
     "metadata": {},
     "output_type": "execute_result"
    }
   ],
   "source": [
    "np.shape(data_sets.test.images[:10])"
   ]
  },
  {
   "cell_type": "code",
   "execution_count": 89,
   "metadata": {
    "scrolled": true
   },
   "outputs": [
    {
     "name": "stdout",
     "output_type": "stream",
     "text": [
      "(5000, 784)\n",
      "(5000, 784)\n"
     ]
    }
   ],
   "source": [
    "print(np.shape(tf.stack(data_sets.test.images[:FLAGS.max_steps], axis=0)))\n",
    "print(np.shape(data_sets.test.images[:FLAGS.max_steps]))"
   ]
  },
  {
   "cell_type": "code",
   "execution_count": 93,
   "metadata": {
    "scrolled": true
   },
   "outputs": [
    {
     "name": "stdout",
     "output_type": "stream",
     "text": [
      "Help on function visualize_embeddings in module tensorflow.contrib.tensorboard.plugins.projector:\n",
      "\n",
      "visualize_embeddings(summary_writer, config)\n",
      "    Stores a config file used by the embedding projector.\n",
      "    \n",
      "    Args:\n",
      "      summary_writer: The summary writer used for writting events.\n",
      "      config: `tf.contrib.tensorboard.plugins.projector.ProjectorConfig`\n",
      "        proto that holds the configuration for the projector such as paths to\n",
      "        checkpoint files and metadata files for the embeddings. If\n",
      "        `config.model_checkpoint_path` is none, it defaults to the\n",
      "        `logdir` used by the summary_writer.\n",
      "    \n",
      "    Raises:\n",
      "      ValueError: If the summary writer does not have a `logdir`.\n",
      "\n"
     ]
    }
   ],
   "source": [
    "help(projector.visualize_embeddings)"
   ]
  },
  {
   "cell_type": "code",
   "execution_count": null,
   "metadata": {
    "collapsed": true
   },
   "outputs": [],
   "source": []
  }
 ],
 "metadata": {
  "kernelspec": {
   "display_name": "Python 3",
   "language": "python",
   "name": "python3"
  },
  "language_info": {
   "codemirror_mode": {
    "name": "ipython",
    "version": 3
   },
   "file_extension": ".py",
   "mimetype": "text/x-python",
   "name": "python",
   "nbconvert_exporter": "python",
   "pygments_lexer": "ipython3",
   "version": "3.6.1"
  }
 },
 "nbformat": 4,
 "nbformat_minor": 2
}
